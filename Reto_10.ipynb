{
  "nbformat": 4,
  "nbformat_minor": 0,
  "metadata": {
    "colab": {
      "provenance": [],
      "include_colab_link": true
    },
    "kernelspec": {
      "name": "python3",
      "display_name": "Python 3"
    },
    "language_info": {
      "name": "python"
    }
  },
  "cells": [
    {
      "cell_type": "markdown",
      "metadata": {
        "id": "view-in-github",
        "colab_type": "text"
      },
      "source": [
        "<a href=\"https://colab.research.google.com/github/avilamiguel12/Reto-10/blob/main/Reto_10.ipynb\" target=\"_parent\"><img src=\"https://colab.research.google.com/assets/colab-badge.svg\" alt=\"Open In Colab\"/></a>"
      ]
    },
    {
      "cell_type": "markdown",
      "source": [
        "#Suma"
      ],
      "metadata": {
        "id": "Z8UVJEVTUew4"
      }
    },
    {
      "cell_type": "code",
      "source": [
        "def generar_matriz1(filas, columnas):\n",
        "    matriz = []\n",
        "    for i in range(filas):\n",
        "        matriz.append([])\n",
        "        for j in range(columnas):\n",
        "            datos = float(input('fila ' + str(i+1) + ', columna ' + str(j+1) + ': '))\n",
        "            matriz[i].append(datos)\n",
        "    return matriz\n",
        "\n",
        "def generar_matriz2(filas2, columnas2):\n",
        "    matriz = []\n",
        "    for i in range(filas2):\n",
        "        matriz.append([])\n",
        "        for j in range(columnas2):\n",
        "            datos = float(input('fila ' + str(i+1) + ', columna ' + str(j+1) + ': '))\n",
        "            matriz[i].append(datos)\n",
        "    return matriz\n",
        "\n",
        "def suma_matrix(m_a, m_b):\n",
        "    if len(m_a) == len(m_b) and len(m_a[0]) == len(m_b[0]):\n",
        "        m_c = []\n",
        "        for i in range(len(m_a)):\n",
        "            m_c.append([])\n",
        "            for j in range(len(m_a[0])):\n",
        "                m_c[i].append(m_a[i][j] + m_b[i][j])\n",
        "        return m_c\n",
        "    else:\n",
        "        return None\n",
        "\n",
        "def imprimir_matriz(matriz):\n",
        "    for fila in matriz:\n",
        "        fila_ = '['\n",
        "        for elemento in fila:\n",
        "            fila_ += str(elemento) + ' '\n",
        "        fila_ += ']'\n",
        "        print(fila_)\n",
        "\n",
        "if __name__=='__main__':\n",
        "    filas = int(input('Ingrese el número de filas de la 1era matriz: '))\n",
        "    columnas = int(input('Ingrese el número de columnas de la 1era matriz: '))\n",
        "\n",
        "    filas2 = int(input('Ingrese el número de filas de la 2da matriz: '))\n",
        "    columnas2 = int(input('Ingrese el número de columnas de la 2da matriz: '))\n",
        "\n",
        "    if filas != filas2 or columnas != columnas2:\n",
        "        print('No es posible realizar la suma')\n",
        "    else:\n",
        "        matriz1 = generar_matriz1(filas, columnas)\n",
        "        matriz2 = generar_matriz2(filas2, columnas2)\n",
        "        resultado = suma_matrix(matriz1, matriz2)\n",
        "        if resultado is not None:\n",
        "            print('La suma de las matrices es:')\n",
        "            imprimir_matriz(resultado)\n",
        "        else:\n",
        "            print('No es posible realizar la suma')\n"
      ],
      "metadata": {
        "id": "cpi_Q7iaaFEb"
      },
      "execution_count": null,
      "outputs": []
    },
    {
      "cell_type": "markdown",
      "source": [
        "#Producto"
      ],
      "metadata": {
        "id": "FWdD-udYZ-U_"
      }
    },
    {
      "cell_type": "code",
      "source": [
        "def generar_matriz1(filas, columnas):\n",
        "    matriz = []\n",
        "    for i in range(filas):\n",
        "        matriz.append([])\n",
        "        for j in range(columnas):\n",
        "            datos = float(input('fila ' + str(i+1) + ', columna ' + str(j+1) + ': '))\n",
        "            matriz[i].append(datos)\n",
        "    return matriz\n",
        "\n",
        "def generar_matriz2(filas2, columnas2):\n",
        "    matriz = []\n",
        "    for i in range(filas2):\n",
        "        matriz.append([])\n",
        "        for j in range(columnas2):\n",
        "            datos = float(input('fila ' + str(i+1) + ', columna ' + str(j+1) + ': '))\n",
        "            matriz[i].append(datos)\n",
        "    return matriz\n",
        "\n",
        "\n",
        "def multi(m1, m2):\n",
        "    if len(m1[0]) == len(m2):\n",
        "        m3 = []\n",
        "        for i in range(len(m1)):\n",
        "            m3.append([])\n",
        "            for j in range(len(m2[0])):\n",
        "                m3[i].append(0)\n",
        "\n",
        "        for i in range(len(m1)):\n",
        "            for j in range(len(m2[0])):\n",
        "                for _ in range(len(m1[0])):\n",
        "                    m3[i][j] += m1[i][_] * m2[_][j]\n",
        "\n",
        "        return m3\n",
        "    else:\n",
        "        return None\n",
        "\n",
        "def imprimir_matriz(matriz):\n",
        "    for fila in matriz:\n",
        "        fila_ = '['\n",
        "        for elemento in fila:\n",
        "            fila_ += str(elemento) + ' '\n",
        "        fila_ += ']'\n",
        "        print(fila_)\n",
        "\n",
        "if __name__ == '__main__':\n",
        "    filas = int(input('Ingrese el número de filas de la 1era matriz: '))\n",
        "    columnas = int(input('Ingrese el número de columnas de la 1era matriz: '))\n",
        "\n",
        "    filas2 = int(input('Ingrese el número de filas de la 2da matriz: '))\n",
        "    columnas2 = int(input('Ingrese el número de columnas de la 2da matriz: '))\n",
        "\n",
        "    if columnas != filas2:\n",
        "        print('No es posible realizar la operación')\n",
        "    else:\n",
        "        matriz1 = generar_matriz1(filas, columnas)\n",
        "        matriz2 = generar_matriz2(filas2, columnas2)\n",
        "        resultado = multi(matriz1, matriz2)\n",
        "\n",
        "        if resultado is not None:\n",
        "            print('La multiplicación de las matrices es:')\n",
        "            imprimir_matriz(resultado)\n",
        "        else:\n",
        "            print('No es posible realizar la operación')"
      ],
      "metadata": {
        "id": "j7tfkSdsZsNc"
      },
      "execution_count": null,
      "outputs": []
    },
    {
      "cell_type": "markdown",
      "source": [
        "#Transpuesta"
      ],
      "metadata": {
        "id": "8yOLsIWbavMh"
      }
    },
    {
      "cell_type": "code",
      "source": [
        "def generar_matriz1(filas, columnas):\n",
        "    matriz = []\n",
        "    for i in range(filas):\n",
        "        matriz.append([])\n",
        "        for j in range(columnas):\n",
        "            datos = float(input('Fila ' + str(i+1) + ', columna ' + str(j+1) + ': '))\n",
        "            matriz[i].append(datos)\n",
        "    return matriz\n",
        "\n",
        "def trasponer_matriz(matriz):\n",
        "    traspuesta = []\n",
        "    for i in range(len(matriz[0])):\n",
        "        traspuesta.append([])\n",
        "        for j in range(len(matriz)):\n",
        "            traspuesta[i].append(matriz[j][i])\n",
        "    return traspuesta\n",
        "\n",
        "def mostrar_matriz(matriz):\n",
        "    for fila in matriz:\n",
        "        print(fila)\n",
        "\n",
        "if __name__ == \"__main__\":\n",
        "    filas = int(input('Ingrese el número de filas de la matriz: '))\n",
        "    columnas = int(input('Ingrese el número de columnas de la matriz: '))\n",
        "\n",
        "    matriz = generar_matriz1(filas, columnas)\n",
        "    print(\"\\nMatriz original:\")\n",
        "    mostrar_matriz(matriz)\n",
        "\n",
        "    matriz_traspuesta = trasponer_matriz(matriz)\n",
        "    print(\"\\nMatriz traspuesta:\")\n",
        "    mostrar_matriz(matriz_traspuesta)\n"
      ],
      "metadata": {
        "id": "FLwXyBQpa0Ms"
      },
      "execution_count": null,
      "outputs": []
    },
    {
      "cell_type": "markdown",
      "source": [
        "#Suma de elementos de una columna"
      ],
      "metadata": {
        "id": "D1cL3wopbMXD"
      }
    },
    {
      "cell_type": "code",
      "source": [
        "def generar_matriz(filas, columnas):\n",
        "    matriz = []\n",
        "    for i in range(filas):\n",
        "        matriz.append([])\n",
        "        for j in range(columnas):\n",
        "            datos = float(input('Fila ' + str(i+1) + ', columna ' + str(j+1) + ': '))\n",
        "            matriz[i].append(datos)\n",
        "    return matriz\n",
        "\n",
        "def sumar_columna(matriz, columna):\n",
        "    suma = 0\n",
        "    for fila in matriz:\n",
        "        suma += fila[columna]\n",
        "    return suma\n",
        "\n",
        "def mostrar_matriz(matriz):\n",
        "    for fila in matriz:\n",
        "        print(fila)\n",
        "\n",
        "if __name__ == \"__main__\":\n",
        "    filas = int(input('Ingrese el número de filas de la matriz: '))\n",
        "    columnas = int(input('Ingrese el número de columnas de la matriz: '))\n",
        "\n",
        "    matriz = generar_matriz(filas, columnas)\n",
        "    print(\"\\nMatriz generada:\")\n",
        "    mostrar_matriz(matriz)\n",
        "\n",
        "    columna = int(input('\\nIngrese la columna que quiera sumar (empezando desde 0): '))\n",
        "    suma = sumar_columna(matriz, columna)\n",
        "    print(f\"La suma de la columna {columna} es: {suma}\")\n"
      ],
      "metadata": {
        "id": "4e2qk27ybQXI"
      },
      "execution_count": null,
      "outputs": []
    },
    {
      "cell_type": "markdown",
      "source": [
        "#Suma de filas"
      ],
      "metadata": {
        "id": "wLipCCPdbjtQ"
      }
    },
    {
      "cell_type": "code",
      "source": [
        "def generar_matriz(filas, columnas):\n",
        "    matriz = []\n",
        "    for i in range(filas):\n",
        "        matriz.append([])\n",
        "        for j in range(columnas):\n",
        "            datos = float(input('Fila ' + str(i+1) + ', columna ' + str(j+1) + ': '))\n",
        "            matriz[i].append(datos)\n",
        "    return matriz\n",
        "\n",
        "def sumar_fila(matriz, fila):\n",
        "    suma = 0\n",
        "    for elemento in matriz[fila]:\n",
        "        suma += elemento\n",
        "    return suma\n",
        "\n",
        "def mostrar_matriz(matriz):\n",
        "    for fila in matriz:\n",
        "        print(fila)\n",
        "\n",
        "def main():\n",
        "    filas = int(input('Ingrese el número de filas de la matriz: '))\n",
        "    columnas = int(input('Ingrese el número de columnas de la matriz: '))\n",
        "\n",
        "    matriz = generar_matriz(filas, columnas)\n",
        "    print(\"\\nMatriz generada:\")\n",
        "    mostrar_matriz(matriz)\n",
        "\n",
        "    fila = int(input('\\nIngrese el número de la fila a sumar (empezando desde 0): '))\n",
        "    suma = sumar_fila(matriz, fila)\n",
        "    print(f\"\\nLa suma de los elementos de la fila {fila} es: {suma}\")\n",
        "\n",
        "if __name__ == \"__main__\":\n",
        "    main()"
      ],
      "metadata": {
        "id": "U19QoYfAbtfE"
      },
      "execution_count": null,
      "outputs": []
    }
  ]
}